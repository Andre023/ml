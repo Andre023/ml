{
  "nbformat": 4,
  "nbformat_minor": 0,
  "metadata": {
    "colab": {
      "provenance": []
    },
    "kernelspec": {
      "name": "python3",
      "display_name": "Python 3"
    },
    "language_info": {
      "name": "python"
    }
  },
  "cells": [
    {
      "cell_type": "code",
      "execution_count": 2,
      "metadata": {
        "colab": {
          "base_uri": "https://localhost:8080/",
          "height": 946
        },
        "id": "f9zlZuKzKe0d",
        "outputId": "ef3ab61e-8753-4288-db64-a02f94ae460f"
      },
      "outputs": [
        {
          "output_type": "stream",
          "name": "stdout",
          "text": [
            "[[12  5  0  0  0  0]\n",
            " [ 2 17  0  1  2  0]\n",
            " [ 1  3  1  0  0  0]\n",
            " [ 0  0  0  5  0  0]\n",
            " [ 0  0  0  1  1  1]\n",
            " [ 0  2  0  3  1  7]]\n",
            "0.6615384615384615\n"
          ]
        },
        {
          "output_type": "execute_result",
          "data": {
            "text/plain": [
              "[Text(0, 0, 't1'),\n",
              " Text(0, 1, 't2'),\n",
              " Text(0, 2, 't3'),\n",
              " Text(0, 3, 't5'),\n",
              " Text(0, 4, 't6'),\n",
              " Text(0, 5, 't7')]"
            ]
          },
          "metadata": {},
          "execution_count": 2
        },
        {
          "output_type": "display_data",
          "data": {
            "text/plain": [
              "<Figure size 800x800 with 1 Axes>"
            ],
            "image/png": "[encoded data removed]"
          },
          "metadata": {}
        }
      ],
      "source": [
        "from sklearn.model_selection import train_test_split\n",
        "from sklearn import tree\n",
        "import graphviz\n",
        "from sklearn.metrics import confusion_matrix as cfm\n",
        "import numpy as np\n",
        "import pandas as pd\n",
        "import matplotlib.pyplot as plt\n",
        "\n",
        "url = (\"https://archive.ics.uci.edu/ml/machine-learning-databases/glass/glass.data\")\n",
        "glass = pd.read_csv(url,header=None)\n",
        "\n",
        "\n",
        "# https://dreampuf.github.io/GraphvizOnline\n",
        "\n",
        "glass = pd.DataFrame(glass)\n",
        "glass.columns = [\"id\",\"RI\",\"Na\",\"Mg\",\"Al\",\"si\",\"K\",\"ca\",\"Ba\",\"Fe\",\"type\"]\n",
        "glass=glass.drop(\"id\",axis=1)\n",
        "\n",
        "X = glass\n",
        "X = X.drop(\"type\",axis=1)\n",
        "Y = glass[\"type\"]\n",
        "\n",
        "# Split\n",
        "xtrain, xtest, ytrain, ytest = train_test_split(X,Y,test_size=0.3,random_state=123)\n",
        "\n",
        "clf = tree.DecisionTreeClassifier(min_samples_leaf = 5, max_depth=5,random_state=123)\n",
        "\n",
        "clf = clf.fit(xtrain,ytrain)\n",
        "\n",
        "dot_data = tree.export_graphviz(clf)\n",
        "\n",
        "dot_data = tree.export_graphviz(clf,out_file=\"arvore.dot\",\n",
        "class_names=['t1','t2','t3','t5','t6','t7'],\n",
        "feature_names=[\"RI\",\"Na\",\"Mg\",\"Al\",\"si\",\"K\",\"ca\",\"Ba\",\"Fe\"],\n",
        "filled=True,rounded=True)\n",
        "\n",
        "ypred = clf.predict(xtest)\n",
        "confmat = cfm(y_true=ytest,y_pred=ypred)\n",
        "print(confmat)\n",
        "\n",
        "print(clf.score(xtest,ytest))\n",
        "\n",
        "labels = ['t1','t2','t3','t5','t6','t7']\n",
        "fig,ax = plt.subplots(figsize=(8,8))\n",
        "ax.matshow(confmat,cmap=plt.cm.Blues,alpha=0.3)\n",
        "nlabel = len(confmat)\n",
        "for i in range (nlabel):\n",
        "  for j in range (nlabel):\n",
        "    ax.text(x=j,y=i,s=str(confmat[i][j]),va='center',ha='center')\n",
        "\n",
        "plt.xlabel('previsto')\n",
        "plt.ylabel('real')\n",
        "xaxis = np.arange(len(labels))\n",
        "ax.set_xticks(xaxis)\n",
        "ax.set_yticks(xaxis)\n",
        "ax.set_xticklabels(labels)\n",
        "ax.set_yticklabels(labels)\n"
      ]
    },
    {
      "cell_type": "code",
      "source": [],
      "metadata": {
        "id": "ZFdm5m4YdYny"
      },
      "execution_count": null,
      "outputs": []
    }
  ]
}